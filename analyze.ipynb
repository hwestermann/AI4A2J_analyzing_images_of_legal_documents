{
 "cells": [
  {
   "cell_type": "code",
   "execution_count": null,
   "metadata": {},
   "outputs": [],
   "source": [
    "#Load dotenv\n",
    "from dotenv import load_dotenv\n",
    "load_dotenv()\n"
   ]
  },
  {
   "cell_type": "code",
   "execution_count": null,
   "metadata": {},
   "outputs": [],
   "source": [
    "def extract_field_descriptions():\n",
    "    field_descriptions = {}\n",
    "    with open('gold_values.tsv', 'r') as file:\n",
    "        # Skip header line\n",
    "        next(file)\n",
    "        for line in file:\n",
    "            # Split by tab and take only first two columns\n",
    "            parts = line.strip().split('\\t')[:2]\n",
    "            if len(parts) == 2:\n",
    "                field_descriptions[parts[0]] = parts[1]\n",
    "    return field_descriptions\n",
    "\n",
    "# Create the dictionary\n",
    "field_descriptions = extract_field_descriptions()\n",
    "print(field_descriptions)"
   ]
  },
  {
   "cell_type": "code",
   "execution_count": null,
   "metadata": {},
   "outputs": [],
   "source": [
    "import json\n",
    "import base64\n",
    "from openai import OpenAI\n",
    "\n",
    "client = OpenAI()\n",
    "\n",
    "def encode_image(image_path):\n",
    "  with open(image_path, \"rb\") as image_file:\n",
    "    return base64.b64encode(image_file.read()).decode('utf-8')\n",
    "\n",
    "def build_prompt():\n",
    "    return f'''Analyze the provided image. Extract the values exactly as they appear, and return them in the json format specified below. If the value is missing, set that element to the string \"-\".\n",
    "\n",
    "    {json.dumps(field_descriptions)}\n",
    "    '''"
   ]
  },
  {
   "cell_type": "code",
   "execution_count": null,
   "metadata": {},
   "outputs": [],
   "source": [
    "def analyze_image(image_path, prompt=\"\", model=\"gpt-4-vision-preview\"):\n",
    "    # Encode the image\n",
    "    base64_image = encode_image(image_path)\n",
    "    \n",
    "    # Get the response from the API\n",
    "    response = client.chat.completions.create(\n",
    "        model=model,\n",
    "        messages=[\n",
    "            {\n",
    "                \"role\": \"system\",\n",
    "                \"content\": prompt\n",
    "            },\n",
    "            {\n",
    "                \"role\": \"user\",\n",
    "                \"content\": [\n",
    "                    {\n",
    "                        \"type\": \"image_url\",\n",
    "                        \"image_url\": {\n",
    "                            \"url\": f\"data:image/jpeg;base64,{base64_image}\",\n",
    "                        },\n",
    "                    },\n",
    "                ],\n",
    "            }\n",
    "        ],\n",
    "        temperature=0,\n",
    "        response_format={ \"type\": \"json_object\" }\n",
    "    )\n",
    "    \n",
    "    # Return the parsed JSON response\n",
    "    return response.choices[0].message.content\n",
    "    "
   ]
  },
  {
   "cell_type": "code",
   "execution_count": null,
   "metadata": {},
   "outputs": [],
   "source": [
    "scenarios = [\"S1\", \"S2\", \"S3\"]\n",
    "image_variants = [\"PDF.png\", \"neat_hd.jpg\", \"neat_sd.jpg\", \"sloppy_hd.jpg\", \"sloppy_sd.jpg\"]\n",
    "model = \"gpt-4o-2024-08-06\"\n",
    "results = []\n",
    "\n",
    "\n",
    "for scenario in scenarios:\n",
    "    for variant in image_variants:\n",
    "        image_path = f\"{scenario}_{variant}\"\n",
    "        if \"PDF\" in variant:\n",
    "            writing = \"typed\"\n",
    "            image_quality = \"hd\"\n",
    "        else:\n",
    "            writing = \"neat\" if \"neat\" in variant else \"sloppy\"\n",
    "            image_quality = \"hd\" if \"hd\" in variant else \"sd\"\n",
    "        result = analyze_image(f\"images/{scenario}_{variant}\", build_prompt(), model)\n",
    "        new_entry = {\n",
    "            \"_model\": model,\n",
    "            \"_scenario\": scenario,\n",
    "            \"_writing\": writing,\n",
    "            \"_image_quality\": image_quality,\n",
    "        }\n",
    "        new_entry.update(json.loads(result))\n",
    "        print(new_entry)\n",
    "        results.append(new_entry)\n",
    "            \n"
   ]
  },
  {
   "cell_type": "code",
   "execution_count": null,
   "metadata": {},
   "outputs": [],
   "source": [
    "#Export results to tsv\n",
    "import pandas as pd\n",
    "df = pd.DataFrame(results)\n",
    "df.to_csv(\"results.tsv\", sep=\"\\t\", index=False)\n",
    "\n",
    "\n"
   ]
  }
 ],
 "metadata": {
  "kernelspec": {
   "display_name": "aichatstories",
   "language": "python",
   "name": "python3"
  },
  "language_info": {
   "codemirror_mode": {
    "name": "ipython",
    "version": 3
   },
   "file_extension": ".py",
   "mimetype": "text/x-python",
   "name": "python",
   "nbconvert_exporter": "python",
   "pygments_lexer": "ipython3",
   "version": "3.9.18"
  }
 },
 "nbformat": 4,
 "nbformat_minor": 2
}
